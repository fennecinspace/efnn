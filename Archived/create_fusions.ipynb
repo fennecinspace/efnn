{
 "cells": [
  {
   "cell_type": "code",
   "execution_count": null,
   "metadata": {
    "colab": {
     "base_uri": "https://localhost:8080/",
     "height": 55
    },
    "colab_type": "code",
    "executionInfo": {
     "elapsed": 9140,
     "status": "ok",
     "timestamp": 1585829184190,
     "user": {
      "displayName": "Mohamed Benkedadra",
      "photoUrl": "https://lh3.googleusercontent.com/a-/AOh14Gi4zWdoSoh0SxBt4SsL5e2a4Wo5QYFpPZLCI_oI=s64",
      "userId": "08431325992879690447"
     },
     "user_tz": -60
    },
    "id": "haQh7OBjK6dJ",
    "outputId": "7f9b4505-b3af-466b-844a-1f84d23f2ad3"
   },
   "outputs": [],
   "source": [
    "import os\n",
    "SAMPLES_DIR = \"./dataset/jpg\"\n",
    "\n",
    "samples = os.listdir(SAMPLES_DIR)\n",
    "samples.sort()\n",
    "print(samples)"
   ]
  },
  {
   "cell_type": "code",
   "execution_count": 9,
   "metadata": {
    "colab": {},
    "colab_type": "code",
    "id": "dIjRnDS_Mdcr"
   },
   "outputs": [],
   "source": [
    "# PRESETS\n",
    "ALL_POSSIBLE_EVS = ['-8', '-7', '-6', '-5', '-4', '-3', '-2', '-1', '+0', '+1', '+2', '+3',]\n",
    "EF_EVS = ['-8', '-4', '+1',]\n",
    "EF1_EVS = ['-8', '-7', '-6', '-5', '-4', '-3', '-2', '-1', '+0',]\n",
    "EF2_EVS = ['-6', '-2', '+1',]\n",
    "EF3_EVS = ['-7', '-3', '+1',]\n",
    "EF4_EVS = ALL_POSSIBLE_EVS\n",
    "EF5_EVS = [\"-8\", \"-5\", \"-2\"]"
   ]
  },
  {
   "cell_type": "code",
   "execution_count": 1,
   "metadata": {
    "colab": {},
    "colab_type": "code",
    "id": "UMVjoPFMmCtN",
    "scrolled": true
   },
   "outputs": [],
   "source": [
    "from tqdm.notebook import tqdm\n",
    "from efimg import Exposures\n",
    "\n",
    "print(\"CREATING EF\")\n",
    "for sample in tqdm(samples):\n",
    "    Exposures(\n",
    "        os.path.join(SAMPLES_DIR, sample), \n",
    "        evs = [f'{sample}-EV{ev}' for ev in EF_EVS], \n",
    "        colorspace=\"bgr\", \n",
    "        ef_file_name = 'ef.jpg'\n",
    "    ).create_ef()"
   ]
  },
  {
   "cell_type": "code",
   "execution_count": 2,
   "metadata": {
    "colab": {},
    "colab_type": "code",
    "id": "M7TSH4CkmFE8"
   },
   "outputs": [],
   "source": [
    "print(\"CREATING EF1\")\n",
    "for sample in tqdm(samples):\n",
    "    Exposures(\n",
    "        os.path.join(SAMPLES_DIR, sample), \n",
    "        evs = [f'{sample}-EV{ev}' for ev in EF1_EVS], \n",
    "        colorspace=\"bgr\", \n",
    "        ef_file_name = 'ef1.jpg'\n",
    "    ).create_ef()"
   ]
  },
  {
   "cell_type": "code",
   "execution_count": 3,
   "metadata": {
    "colab": {},
    "colab_type": "code",
    "id": "snD96ViVpDCU"
   },
   "outputs": [],
   "source": [
    "print(\"CREATING EF2\")\n",
    "for sample in tqdm(samples):\n",
    "    Exposures(\n",
    "        os.path.join(SAMPLES_DIR, sample), \n",
    "        evs = [f'{sample}-EV{ev}' for ev in EF2_EVS], \n",
    "        colorspace=\"bgr\", \n",
    "        ef_file_name = 'ef2.jpg'\n",
    "    ).create_ef()"
   ]
  },
  {
   "cell_type": "code",
   "execution_count": 0,
   "metadata": {
    "colab": {},
    "colab_type": "code",
    "id": "eGThYs2BpHBP"
   },
   "outputs": [],
   "source": [
    "print(\"CREATING EF3\")\n",
    "for sample in tqdm(samples):\n",
    "    Exposures(\n",
    "        os.path.join(SAMPLES_DIR, sample), \n",
    "        evs = [f'{sample}-EV{ev}' for ev in EF3_EVS], \n",
    "        colorspace=\"bgr\", \n",
    "        ef_file_name = 'ef3.jpg'\n",
    "    ).create_ef()"
   ]
  },
  {
   "cell_type": "code",
   "execution_count": 0,
   "metadata": {
    "colab": {},
    "colab_type": "code",
    "id": "hSIAcpLipMMJ"
   },
   "outputs": [],
   "source": [
    "print(\"CREATING EF4\")\n",
    "for sample in tqdm(samples):\n",
    "    Exposures(\n",
    "        os.path.join(SAMPLES_DIR, sample), \n",
    "        evs = [f'{sample}-EV{ev}' for ev in EF4_EVS], \n",
    "        colorspace=\"bgr\", \n",
    "        ef_file_name = 'ef4.jpg'\n",
    "    ).create_ef()"
   ]
  },
  {
   "cell_type": "code",
   "execution_count": 4,
   "metadata": {
    "colab": {},
    "colab_type": "code",
    "id": "-zgA9H6IpM7c"
   },
   "outputs": [],
   "source": [
    "print(\"CREATING EF5\")\n",
    "for sample in tqdm(samples):\n",
    "    Exposures(\n",
    "        os.path.join(SAMPLES_DIR, sample), \n",
    "        evs = [f'{sample}-EV{ev}' for ev in EF5_EVS], \n",
    "        colorspace=\"bgr\", \n",
    "        ef_file_name = 'ef5.jpg'\n",
    "    ).create_ef()"
   ]
  }
 ],
 "metadata": {
  "accelerator": "GPU",
  "colab": {
   "authorship_tag": "ABX9TyNkMSvsvgLn+udVnvNjF3wy",
   "collapsed_sections": [],
   "name": "fusion.ipynb",
   "provenance": []
  },
  "kernelspec": {
   "display_name": "Python 3",
   "language": "python",
   "name": "python3"
  },
  "language_info": {
   "codemirror_mode": {
    "name": "ipython",
    "version": 3
   },
   "file_extension": ".py",
   "mimetype": "text/x-python",
   "name": "python",
   "nbconvert_exporter": "python",
   "pygments_lexer": "ipython3",
   "version": "3.6.9"
  }
 },
 "nbformat": 4,
 "nbformat_minor": 1
}
