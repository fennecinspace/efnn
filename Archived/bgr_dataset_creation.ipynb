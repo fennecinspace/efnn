{
 "cells": [
  {
   "cell_type": "code",
   "execution_count": 2,
   "metadata": {
    "colab": {
     "base_uri": "https://localhost:8080/",
     "height": 127
    },
    "colab_type": "code",
    "executionInfo": {
     "elapsed": 18694,
     "status": "ok",
     "timestamp": 1599585308736,
     "user": {
      "displayName": "Mohamed Benkedadra",
      "photoUrl": "https://lh3.googleusercontent.com/a-/AOh14Gi4zWdoSoh0SxBt4SsL5e2a4Wo5QYFpPZLCI_oI=s64",
      "userId": "08431325992879690447"
     },
     "user_tz": -60
    },
    "id": "4HoYMdT43rtN",
    "outputId": "6f258cca-19a9-45f7-bfa3-0e86cacaa3db"
   },
   "outputs": [
    {
     "name": "stdout",
     "output_type": "stream",
     "text": [
      "Go to this URL in a browser: https://accounts.google.com/o/oauth2/auth?client_id=947318989803-6bn6qk8qdgf4n4g3pfee6491hc0brc4i.apps.googleusercontent.com&redirect_uri=urn%3aietf%3awg%3aoauth%3a2.0%3aoob&scope=email%20https%3a%2f%2fwww.googleapis.com%2fauth%2fdocs.test%20https%3a%2f%2fwww.googleapis.com%2fauth%2fdrive%20https%3a%2f%2fwww.googleapis.com%2fauth%2fdrive.photos.readonly%20https%3a%2f%2fwww.googleapis.com%2fauth%2fpeopleapi.readonly&response_type=code\n",
      "\n",
      "Enter your authorization code:\n",
      "4/3wEvfdey7KRkMVuKEWmaU47URHtRJNbXVz5A4ckhX0amAINA4vz6IZE\n",
      "Mounted at /content/gdrive\n"
     ]
    }
   ],
   "source": [
    "from google.colab import drive\n",
    "drive.mount('/content/gdrive')"
   ]
  },
  {
   "cell_type": "code",
   "execution_count": 3,
   "metadata": {
    "colab": {
     "base_uri": "https://localhost:8080/",
     "height": 35
    },
    "colab_type": "code",
    "executionInfo": {
     "elapsed": 591,
     "status": "ok",
     "timestamp": 1599585312152,
     "user": {
      "displayName": "Mohamed Benkedadra",
      "photoUrl": "https://lh3.googleusercontent.com/a-/AOh14Gi4zWdoSoh0SxBt4SsL5e2a4Wo5QYFpPZLCI_oI=s64",
      "userId": "08431325992879690447"
     },
     "user_tz": -60
    },
    "id": "xXNMgfCK38k3",
    "outputId": "da2956b7-60ed-4678-a3a3-90857d9f0810"
   },
   "outputs": [
    {
     "name": "stdout",
     "output_type": "stream",
     "text": [
      "/content/gdrive/My Drive/efnn\n"
     ]
    }
   ],
   "source": [
    "% cd \"/content/gdrive/My Drive/efnn\""
   ]
  },
  {
   "cell_type": "code",
   "execution_count": 4,
   "metadata": {
    "colab": {},
    "colab_type": "code",
    "executionInfo": {
     "elapsed": 2112,
     "status": "ok",
     "timestamp": 1599585315121,
     "user": {
      "displayName": "Mohamed Benkedadra",
      "photoUrl": "https://lh3.googleusercontent.com/a-/AOh14Gi4zWdoSoh0SxBt4SsL5e2a4Wo5QYFpPZLCI_oI=s64",
      "userId": "08431325992879690447"
     },
     "user_tz": -60
    },
    "id": "MAQ_xkso4Uul"
   },
   "outputs": [],
   "source": [
    "import os\n",
    "import numpy as np\n",
    "from tqdm.notebook import tqdm\n",
    "from efnn.efimg import Exposures"
   ]
  },
  {
   "cell_type": "code",
   "execution_count": 5,
   "metadata": {
    "colab": {
     "base_uri": "https://localhost:8080/",
     "height": 55
    },
    "colab_type": "code",
    "executionInfo": {
     "elapsed": 972,
     "status": "ok",
     "timestamp": 1599585554163,
     "user": {
      "displayName": "Mohamed Benkedadra",
      "photoUrl": "https://lh3.googleusercontent.com/a-/AOh14Gi4zWdoSoh0SxBt4SsL5e2a4Wo5QYFpPZLCI_oI=s64",
      "userId": "08431325992879690447"
     },
     "user_tz": -60
    },
    "id": "4Sjr-lch5HL_",
    "outputId": "c8897f60-b289-4e80-a04c-e17e6eb0021e"
   },
   "outputs": [
    {
     "name": "stdout",
     "output_type": "stream",
     "text": [
      "[['507', '-8', '-3', '-1', 'ef1', '1'], ['AhwahneeGreatLounge', '-6', '-1', '+1', 'ef3', '1'], ['AirBellowsGap', '-8', '-2', '+0', 'ef4', '1'], ['AmikeusBeaverDamPM1', '-8', '-5', '-2', 'ef5', '1'], ['AmikeusBeaverDamPM2', '-8', '-5', '-2', 'ef5', '1'], ['ArtistPalette', '-8', '-3', '-1', 'ef1', '1'], ['BalancedRock', '-8', '-2', '+0', 'ef4', '1'], ['BandonSunset(1)', '-6', '-2', '+0', 'ef2', '1'], ['BandonSunset(2)', '-6', '-2', '+0', 'ef2', '1'], ['BarHarborPresunrise', '-8', '-2', '+0', 'ef4', '1'], ['BarHarborSunrise', '-8', '-2', '+0', 'ef4', '1'], ['BenJerrys', '-6', '-2', '+0', 'ef2', '1'], ['BigfootPass', '-8', '-3', '-1', 'ef1', '1'], ['BloomingGorse(1)', '-8', '-5', '-2', 'ef5', '0'], ['BloomingGorse(2)', '-8', '-5', '-2', 'ef5', '0'], ['CadesCove', '-8', '-3', '-1', 'ef1', '1'], ['CanadianFalls', '-6', '-1', '+1', 'ef3', '1'], ['CemeteryTree(1)', '-8', '-3', '-1', 'ef1', '1'], ['CemeteryTree(2)', '-8', '-3', '-1', 'ef1', '1'], ['DelicateArch', '-8', '-2', '+0', 'ef4', '1'], ['DelicateFlowers', '-8', '-3', '-1', 'ef1', '1'], ['DevilsBathtub', '-8', '-3', '-1', 'ef1', '1'], ['DevilsGolfCourse', '-8', '-3', '+0', 'ef1', '0'], ['DevilsTower', '-8', '-4', '+1', 'ef', '1'], ['ElCapitan', '-8', '-2', '+3', 'ef4', '0'], ['Exploratorium(1)', '-8', '-2', '+3', 'ef4', '0'], ['Exploratorium(2)', '-8', '-3', '-1', 'ef1', '1'], ['Flamingo', '-6', '-1', '+1', 'ef3', '1'], ['FourCornersStorm', '-8', '-3', '-1', 'ef1', '1'], ['Frontier', '-8', '-4', '+1', 'ef', '1'], ['GeneralGrant', '-8', '-5', '-2', 'ef5', '1'], ['GeneralSherman', '-8', '-3', '-1', 'ef1', '1'], ['GoldenGate(1)', '-8', '-2', '+0', 'ef4', '1'], ['GoldenGate(2)', '-8', '-2', '+0', 'ef4', '1'], ['HalfDomeSunset', '-8', '-4', '+1', 'ef', '0'], ['HallofFame', '-8', '-4', '+1', 'ef', '0'], ['HancockKitchenInside', '-8', '-4', '+1', 'ef', '0'], ['HancockKitchenOutside', '-8', '-4', '+1', 'ef', '0'], ['HancockSeedField', '-8', '-4', '+1', 'ef', '0'], ['HDRMark', '-8', '-4', '+1', 'ef', '0'], ['HooverDam', '-8', '-4', '+1', 'ef', '0'], ['HooverGarage', '-8', '-4', '+1', 'ef', '0'], ['JesseBrownsCabin', '-8', '-4', '+1', 'ef', '0'], ['KingsCanyon', '-8', '-4', '+1', 'ef', '0'], ['LabBooth', '-8', '-4', '+1', 'ef', '0'], ['LabTypewriter', '-8', '-4', '+1', 'ef', '0'], ['LabWindow', '-8', '-4', '+1', 'ef', '0'], ['LadyBirdRedwoods', '-8', '-4', '+1', 'ef', '0'], ['LasVegasStore', '-8', '-4', '+1', 'ef', '0'], ['LetchworthTeaTable(1)', '-8', '-4', '+1', 'ef', '0'], ['LetchworthTeaTable(2)', '-8', '-4', '+1', 'ef', '0'], ['LittleRiver', '-8', '-4', '+1', 'ef', '0'], ['LuxoDoubleChecker', '-8', '-4', '+1', 'ef', '0'], ['M3MiddlePond', '-8', '-4', '+1', 'ef', '0'], ['MackinacBridge', '-8', '-4', '+1', 'ef', '0'], ['MammothHotSprings', '-8', '-4', '+1', 'ef', '0'], ['MasonLake(1)', '-8', '-4', '+1', 'ef', '0'], ['MasonLake(2)', '-8', '-4', '+1', 'ef', '0'], ['McKeesPub', '-8', '-4', '+1', 'ef', '0'], ['MiddlePond', '-8', '-4', '+1', 'ef', '0'], ['MirrorLake', '-8', '-4', '+1', 'ef', '0'], ['MtRushmore(1)', '-8', '-4', '+1', 'ef', '0'], ['MtRushmore(2)', '-8', '-4', '+1', 'ef', '0'], ['MtRushmoreFlags', '-8', '-4', '+1', 'ef', '0'], ['NiagaraFalls', '-8', '-4', '+1', 'ef', '0'], ['NorthBubble', '-8', '-4', '+1', 'ef', '0'], ['OCanadaLights', '-8', '-4', '+1', 'ef', '0'], ['OCanadaNoLights', '-8', '-4', '+1', 'ef', '0'], ['OldFaithfulInn', '-8', '-4', '+1', 'ef', '0'], ['OtterPoint', '-8', '-4', '+1', 'ef', '0'], ['PaulBunyan', '-8', '-4', '+1', 'ef', '0'], ['PeckLake', '-8', '-4', '+1', 'ef', '0'], ['Peppermill', '-8', '-4', '+1', 'ef', '0'], ['Petroglyphs', '-8', '-4', '+1', 'ef', '0'], ['RedwoodSunset', '-8', '-4', '+1', 'ef', '0'], ['RITTiger', '-8', '-4', '+1', 'ef', '0'], ['RoadsEndFireDamage', '-8', '-4', '+1', 'ef', '0'], ['RoundBarnInside', '-8', '-4', '+1', 'ef', '0'], ['RoundStoneBarn', '-8', '-4', '+1', 'ef', '0'], ['Route66Museum', '-8', '-4', '+1', 'ef', '0'], ['SequoiaRemains', '-8', '-4', '+1', 'ef', '0'], ['SmokyTunnel', '-8', '-4', '+1', 'ef', '0'], ['SouthBranchKingsRiver', '-8', '-4', '+1', 'ef', '0'], ['SunsetPoint(1)', '-8', '-4', '+1', 'ef', '0'], ['SunsetPoint(2)', '-8', '-4', '+1', 'ef', '0'], ['TaughannockFalls', '-8', '-4', '+1', 'ef', '0'], ['TheGrotto', '-8', '-4', '+1', 'ef', '0'], ['TheNarrows(1)', '-8', '-4', '+1', 'ef', '0'], ['TheNarrows(2)', '-8', '-4', '+1', 'ef', '0'], ['TheNarrows(3)', '-8', '-4', '+1', 'ef', '0'], ['TunnelView(1)', '-8', '-4', '+1', 'ef', '0'], ['TunnelView(2)', '-8', '-4', '+1', 'ef', '0'], ['TupperLake(1)', '-8', '-4', '+1', 'ef', '0'], ['UpheavalDome', '-8', '-4', '+1', 'ef', '0'], ['URChapel(1)', '-8', '-4', '+1', 'ef', '0'], ['URChapel(2)', '-8', '-4', '+1', 'ef', '0'], ['WaffleHouse', '-8', '-4', '+1', 'ef', '0'], ['WallDrug', '-8', '-4', '+1', 'ef', '0'], ['WestBranchAusable(1)', '-8', '-4', '+1', 'ef', '0'], ['WestBranchAusable(2)', '-8', '-4', '+1', 'ef', '0'], ['WillyDesk', '-8', '-4', '+1', 'ef', '0'], ['WillySentinel', '-8', '-4', '+1', 'ef', '0'], ['YosemiteFalls', '-8', '-4', '+1', 'ef', '0'], ['Zentrum', '-8', '-4', '+1', 'ef', '0']]\n"
     ]
    }
   ],
   "source": [
    "def read_csv(path, delimiter = ','):\n",
    "    f = open(path, 'r')\n",
    "    content = f.read().split('\\n')\n",
    "    return [line.split(delimiter) for line in content]\n",
    "\n",
    "lines = read_csv('./efnn/list2.csv')\n",
    "print(lines)\n",
    "# sample name | under ev | normal ev | over ev | use (1) or don't use (0)"
   ]
  },
  {
   "cell_type": "code",
   "execution_count": 7,
   "metadata": {
    "colab": {
     "base_uri": "https://localhost:8080/",
     "height": 103,
     "referenced_widgets": [
      "baae507959874101b6137388d9d848e2",
      "2db62f0afcc245a08763aeabf2ce9914",
      "2b112aec2a624bfd96ffadd0516aab3a",
      "98747d71ebf343f7b1a6115497bab1fe",
      "82d43b5f4f5643c1bbb38e21d6794892",
      "05be0224999046b19dad34beb410a67d",
      "8cdece66aa73460e9388c69431707726",
      "66ce4d2426e945d79892681c2f418da6"
     ]
    },
    "colab_type": "code",
    "executionInfo": {
     "elapsed": 148837,
     "status": "ok",
     "timestamp": 1599585752212,
     "user": {
      "displayName": "Mohamed Benkedadra",
      "photoUrl": "https://lh3.googleusercontent.com/a-/AOh14Gi4zWdoSoh0SxBt4SsL5e2a4Wo5QYFpPZLCI_oI=s64",
      "userId": "08431325992879690447"
     },
     "user_tz": -60
    },
    "id": "O_EgAUGP5NQl",
    "outputId": "ad488b92-8223-427d-955f-3f0a2eb12369"
   },
   "outputs": [
    {
     "data": {
      "application/vnd.jupyter.widget-view+json": {
       "model_id": "baae507959874101b6137388d9d848e2",
       "version_major": 2,
       "version_minor": 0
      },
      "text/plain": [
       "HBox(children=(FloatProgress(value=0.0, max=104.0), HTML(value='')))"
      ]
     },
     "metadata": {
      "tags": []
     },
     "output_type": "display_data"
    },
    {
     "name": "stdout",
     "output_type": "stream",
     "text": [
      "\n",
      "[ 0  0  0 16 10  5 37 29 16] [28 19  9]\n",
      "6560428 6560428\n"
     ]
    }
   ],
   "source": [
    "### OPTION 1 (ALL PIXELS)\n",
    "\n",
    "SAMPLE_DIR = './dataset/jpg'\n",
    "\n",
    "for i, line in enumerate(tqdm(lines)):\n",
    "    if not int(line[5]): \n",
    "        # don't use this sample\n",
    "        continue\n",
    "\n",
    "    x = Exposures(\n",
    "        os.path.join(SAMPLE_DIR, line[0]), evs = [\n",
    "            f'{line[0]}-EV{line[1]}', \n",
    "            f'{line[0]}-EV{line[2]}',\n",
    "            f'{line[0]}-EV{line[3]}', \n",
    "        ], colorspace=\"bgr\", ef_file_name = f'{line[4]}.jpg'\n",
    "    )\n",
    "    \n",
    "    x.create_np_data()\n",
    "    x.save_np_data()\n",
    "\n",
    "    # take every 3rd pixel\n",
    "    EVERY_X_PIXEL = 50\n",
    "    if i == 0:\n",
    "        data = x.np_data['data'][::EVERY_X_PIXEL]\n",
    "        labels = x.np_data['labels'][::EVERY_X_PIXEL]\n",
    "    else:\n",
    "        data = np.concatenate((data, x.np_data['data'][::EVERY_X_PIXEL]), 0)\n",
    "        labels = np.concatenate((labels, x.np_data['labels'][::EVERY_X_PIXEL]), 0)\n",
    "\n",
    "np.save('./new_evs_50th_data.npy', data)\n",
    "np.save('./new_evs_50th_labels.npy', labels)\n",
    "print(data[0], labels[0])\n",
    "print(len(data), len(labels))"
   ]
  },
  {
   "cell_type": "code",
   "execution_count": null,
   "metadata": {
    "colab": {
     "base_uri": "https://localhost:8080/",
     "height": 103,
     "referenced_widgets": [
      "a3d19a73f94b4b1888c2b85463ef44a4",
      "3898664b74764e3e8fb59fc2f1557f40",
      "0609db04674b4da8a86031e1c8a50e97",
      "b3a70be9962f4a81a560c0500251cda7",
      "4680a3762a6145d69f3de82d7a37c414",
      "2b50c3ea01a74429baddb5f78e7240fb",
      "146adf9dbf844da2a5ac65156c3d2d32",
      "bcbae1b6e5944a608731979224725ff6"
     ]
    },
    "colab_type": "code",
    "executionInfo": {
     "elapsed": 195212,
     "status": "ok",
     "timestamp": 1587021028049,
     "user": {
      "displayName": "Mohamed Benkedadra",
      "photoUrl": "https://lh3.googleusercontent.com/a-/AOh14Gi4zWdoSoh0SxBt4SsL5e2a4Wo5QYFpPZLCI_oI=s64",
      "userId": "08431325992879690447"
     },
     "user_tz": -60
    },
    "id": "1dW--vhfvJeu",
    "outputId": "4a544e04-f042-46c0-93bd-4ee2c1565791"
   },
   "outputs": [
    {
     "data": {
      "application/vnd.jupyter.widget-view+json": {
       "model_id": "a3d19a73f94b4b1888c2b85463ef44a4",
       "version_major": 2,
       "version_minor": 0
      },
      "text/plain": [
       "HBox(children=(IntProgress(value=0, max=104), HTML(value='')))"
      ]
     },
     "metadata": {
      "tags": []
     },
     "output_type": "display_data"
    },
    {
     "name": "stdout",
     "output_type": "stream",
     "text": [
      "\n",
      "(32802064, 12)\n",
      "(22228476, 12)\n"
     ]
    }
   ],
   "source": [
    "### OPTION 2 (UNIQUE PIXELS) \n",
    "SAMPLE_DIR = './dataset/jpg'\n",
    "\n",
    "for i, line in enumerate(tqdm(lines)):\n",
    "    if not int(line[5]): \n",
    "        # don't use this sample\n",
    "        continue\n",
    "\n",
    "    x = Exposures(\n",
    "        os.path.join(SAMPLE_DIR, line[0]), evs = [\n",
    "            f'{line[0]}-EV{line[1]}', \n",
    "            f'{line[0]}-EV{line[2]}', \n",
    "            f'{line[0]}-EV{line[3]}', \n",
    "        ], colorspace=\"bgr\", ef_file_name = f'{line[4]}.jpg'\n",
    "    )\n",
    "    \n",
    "    x.create_np_data()\n",
    "\n",
    "    y = x.np_data['labels']\n",
    "    x = x.np_data['data']\n",
    "\n",
    "    x = np.concatenate((x, y), axis = 1)\n",
    "    del y\n",
    "\n",
    "    \n",
    "\n",
    "    if i == 0:\n",
    "        data = x[::10]\n",
    "    else:\n",
    "        data = np.concatenate((data, x[::10]), 0)\n",
    "\n",
    "print(data.shape)\n",
    "data = np.unique(data, axis = 0)\n",
    "print(data.shape)\n",
    "\n",
    "np.save('./rgb_data.npy', data[:,:9]) # first 9 pixels are data pixels\n",
    "np.save('./rgb_labels.npy', data[:,9:]) # last 3 pixels are label pixels"
   ]
  },
  {
   "cell_type": "code",
   "execution_count": null,
   "metadata": {
    "colab": {
     "base_uri": "https://localhost:8080/",
     "height": 845
    },
    "colab_type": "code",
    "executionInfo": {
     "elapsed": 2815,
     "status": "ok",
     "timestamp": 1595327905670,
     "user": {
      "displayName": "Mohamed Benkedadra",
      "photoUrl": "https://lh3.googleusercontent.com/a-/AOh14Gi4zWdoSoh0SxBt4SsL5e2a4Wo5QYFpPZLCI_oI=s64",
      "userId": "08431325992879690447"
     },
     "user_tz": -60
    },
    "id": "oO32nAn27Sf8",
    "outputId": "76cbb4e1-8d8a-42d8-b84c-3ad794666081"
   },
   "outputs": [
    {
     "name": "stdout",
     "output_type": "stream",
     "text": [
      "total 6.6G\n",
      "-rw------- 1 root root  25K Jul 15 19:39  15-07-2020-ffnn-1-512-9-5-3-3RD.hdf5\n",
      "-rw------- 1 root root  25K Jul 15 18:58  15-07-2020-ffnn-1-512-9-5-3.hdf5\n",
      "-rw------- 1 root root  25K Jul 15 19:54  15-07-2020-ffnn-3-512-9-5-3-3RD.hdf5\n",
      "-rw------- 1 root root  25K Jul 15 19:12  15-07-2020-ffnn-3-512-9-5-3.hdf5\n",
      "-rw------- 1 root root  25K Jul 15 20:30  15-07-2020-ffnn-5-512-9-5-3-3RD.hdf5\n",
      "-rw------- 1 root root  25K Jul 15 19:06  15-07-2020-ffnn-5-512-9-5-3.hdf5\n",
      "-rw------- 1 root root  32K Jul 15 16:58  15-07-2020.hdf5\n",
      "-rw------- 1 root root  32K Jul 15 18:33  15-07-2020-linear-10tg.hdf5\n",
      "-rw------- 1 root root  32K Jul 15 18:38  15-07-2020-linear-10th.hdf5\n",
      "-rw------- 1 root root  32K Jul 15 17:36  15-07-2020-linear-1-epoch.hdf5\n",
      "-rw------- 1 root root  32K Jul 15 17:58  15-07-2020-linear.hdf5\n",
      "-rw------- 1 root root  25K Apr 12 15:24  1hidden.hdf5\n",
      "-rw------- 1 root root  25K Apr 12 22:31  1hidden_sigmoid.hdf5\n",
      "-rw------- 1 root root  32K Apr 12 15:04  2hidden.hdf5\n",
      "-rw------- 1 root root  32K Apr 21 00:46  2hidden_model_2evs.hdf5\n",
      "-rw------- 1 root root  29K Apr  1 14:38  3rd.hdf5\n",
      "drwx------ 2 root root 4.0K Mar 27 07:13  archive\n",
      "-rw------- 1 root root 6.1K Mar 27 07:52  bgr_3rd.png\n",
      "-rw------- 1 root root  25K Mar 27 13:56  bgr_model.hdf5\n",
      "drwx------ 2 root root 4.0K Mar 26 11:40 'Colab Notebooks'\n",
      "-rw------- 1 root root 282M Jul 21 10:37  data_every_10th.npy\n",
      "-rw------- 1 root root 939M Jul 21 10:36  data_every_3rd.npy\n",
      "-rw------- 1 root root 2.8G Jul 21 10:30  data_full.npy\n",
      "drwx------ 3 root root 4.0K Mar 26 12:26  dataset\n",
      "drwx------ 4 root root 4.0K Apr 20 23:46  efnn\n",
      "drwx------ 2 root root 4.0K Jul 15 20:27  EXTERNAL_SAMPLES\n",
      "-rw------- 1 root root  111 Mar 26 12:55  extract_allimages_evs.sh\n",
      "-rw------- 1 root root 1.5K Jun 21 08:12  extract_evs.sh\n",
      "drwx------ 2 root root 4.0K Mar 26 14:52  ImageMagick-7.0.10-2\n",
      "drwx------ 2 root root 4.0K Apr  2 09:42  ImageMagick-7.0.10-3\n",
      "-rw------- 1 root root  14M Apr  2 10:17  ImageMagick.tar.gz\n",
      "-rw------- 1 root root  94M Jul 21 10:37  labels_every_10th.npy\n",
      "-rw------- 1 root root 313M Jul 21 10:36  labels_every_3rd.npy\n",
      "-rw------- 1 root root 939M Jul 21 10:30  labels_full.npy\n",
      "-rw------- 1 root root  19K Apr 21 00:22  regression_model_2evs.hdf5\n",
      "-rw------- 1 root root  19K Apr 12 15:27  regression_model.hdf5\n",
      "-rw------- 1 root root  19K Apr 16 07:17  regression_model_unique.hdf5\n",
      "-rw------- 1 root root 626M Apr 20 23:51  rgb_data_3rd_2evs.npy\n",
      "-rw------- 1 root root 191M Apr 16 07:10  rgb_data.npy\n",
      "-rw------- 1 root root 313M Apr 20 23:51  rgb_labels_3rd_2evs.npy\n",
      "-rw------- 1 root root  64M Apr 16 07:10  rgb_labels.npy\n",
      "drwx------ 2 root root 4.0K Apr 17 02:25  sample-bracketed-photos\n",
      "-rw------- 1 root root  77M Nov 21  2018  sample-bracketed-photos.zip\n",
      "-rw------- 1 root root 111K Apr  2 14:18  tmp.jpg\n",
      "drwx------ 2 root root 4.0K Apr 13 16:11  Venice-Grand-Canal\n"
     ]
    }
   ],
   "source": [
    "# x = Exposures(\n",
    "#     os.path.join(SAMPLE_DIR, lines[0][0]), evs = [\n",
    "#         f'{lines[0][0]}-EV{lines[0][1]}', \n",
    "#         f'{lines[0][0]}-EV{lines[0][2]}', \n",
    "#         f'{lines[0][0]}-EV{lines[0][3]}', \n",
    "#     ], colorspace=\"bgr\", ef_file_name = f'{lines[0][4]}.jpg'\n",
    "# )\n",
    "    \n",
    "\n",
    "# print(\"\\n\", x.pixel(0,1000), data[100], labels[100])\n",
    "! ls -lh\n",
    "# ! ls -lh archive/bgr_10th/"
   ]
  },
  {
   "cell_type": "code",
   "execution_count": null,
   "metadata": {
    "colab": {},
    "colab_type": "code",
    "id": "fCy7VGz00_nv"
   },
   "outputs": [],
   "source": []
  }
 ],
 "metadata": {
  "colab": {
   "authorship_tag": "ABX9TyMJMzNc/8JnEuJqKirEv1X9",
   "collapsed_sections": [],
   "name": "bgr_dataset_creation.ipynb",
   "provenance": [],
   "toc_visible": true
  },
  "kernelspec": {
   "display_name": "Python 3",
   "language": "python",
   "name": "python3"
  },
  "language_info": {
   "codemirror_mode": {
    "name": "ipython",
    "version": 3
   },
   "file_extension": ".py",
   "mimetype": "text/x-python",
   "name": "python",
   "nbconvert_exporter": "python",
   "pygments_lexer": "ipython3",
   "version": "3.6.9"
  },
  "widgets": {
   "application/vnd.jupyter.widget-state+json": {
    "05be0224999046b19dad34beb410a67d": {
     "model_module": "@jupyter-widgets/base",
     "model_name": "LayoutModel",
     "state": {
      "_model_module": "@jupyter-widgets/base",
      "_model_module_version": "1.2.0",
      "_model_name": "LayoutModel",
      "_view_count": null,
      "_view_module": "@jupyter-widgets/base",
      "_view_module_version": "1.2.0",
      "_view_name": "LayoutView",
      "align_content": null,
      "align_items": null,
      "align_self": null,
      "border": null,
      "bottom": null,
      "display": null,
      "flex": null,
      "flex_flow": null,
      "grid_area": null,
      "grid_auto_columns": null,
      "grid_auto_flow": null,
      "grid_auto_rows": null,
      "grid_column": null,
      "grid_gap": null,
      "grid_row": null,
      "grid_template_areas": null,
      "grid_template_columns": null,
      "grid_template_rows": null,
      "height": null,
      "justify_content": null,
      "justify_items": null,
      "left": null,
      "margin": null,
      "max_height": null,
      "max_width": null,
      "min_height": null,
      "min_width": null,
      "object_fit": null,
      "object_position": null,
      "order": null,
      "overflow": null,
      "overflow_x": null,
      "overflow_y": null,
      "padding": null,
      "right": null,
      "top": null,
      "visibility": null,
      "width": null
     }
    },
    "0609db04674b4da8a86031e1c8a50e97": {
     "model_module": "@jupyter-widgets/controls",
     "model_name": "IntProgressModel",
     "state": {
      "_dom_classes": [],
      "_model_module": "@jupyter-widgets/controls",
      "_model_module_version": "1.5.0",
      "_model_name": "IntProgressModel",
      "_view_count": null,
      "_view_module": "@jupyter-widgets/controls",
      "_view_module_version": "1.5.0",
      "_view_name": "ProgressView",
      "bar_style": "success",
      "description": "100%",
      "description_tooltip": null,
      "layout": "IPY_MODEL_2b50c3ea01a74429baddb5f78e7240fb",
      "max": 104,
      "min": 0,
      "orientation": "horizontal",
      "style": "IPY_MODEL_4680a3762a6145d69f3de82d7a37c414",
      "value": 104
     }
    },
    "146adf9dbf844da2a5ac65156c3d2d32": {
     "model_module": "@jupyter-widgets/controls",
     "model_name": "DescriptionStyleModel",
     "state": {
      "_model_module": "@jupyter-widgets/controls",
      "_model_module_version": "1.5.0",
      "_model_name": "DescriptionStyleModel",
      "_view_count": null,
      "_view_module": "@jupyter-widgets/base",
      "_view_module_version": "1.2.0",
      "_view_name": "StyleView",
      "description_width": ""
     }
    },
    "2b112aec2a624bfd96ffadd0516aab3a": {
     "model_module": "@jupyter-widgets/controls",
     "model_name": "FloatProgressModel",
     "state": {
      "_dom_classes": [],
      "_model_module": "@jupyter-widgets/controls",
      "_model_module_version": "1.5.0",
      "_model_name": "FloatProgressModel",
      "_view_count": null,
      "_view_module": "@jupyter-widgets/controls",
      "_view_module_version": "1.5.0",
      "_view_name": "ProgressView",
      "bar_style": "success",
      "description": "100%",
      "description_tooltip": null,
      "layout": "IPY_MODEL_05be0224999046b19dad34beb410a67d",
      "max": 104,
      "min": 0,
      "orientation": "horizontal",
      "style": "IPY_MODEL_82d43b5f4f5643c1bbb38e21d6794892",
      "value": 104
     }
    },
    "2b50c3ea01a74429baddb5f78e7240fb": {
     "model_module": "@jupyter-widgets/base",
     "model_name": "LayoutModel",
     "state": {
      "_model_module": "@jupyter-widgets/base",
      "_model_module_version": "1.2.0",
      "_model_name": "LayoutModel",
      "_view_count": null,
      "_view_module": "@jupyter-widgets/base",
      "_view_module_version": "1.2.0",
      "_view_name": "LayoutView",
      "align_content": null,
      "align_items": null,
      "align_self": null,
      "border": null,
      "bottom": null,
      "display": null,
      "flex": null,
      "flex_flow": null,
      "grid_area": null,
      "grid_auto_columns": null,
      "grid_auto_flow": null,
      "grid_auto_rows": null,
      "grid_column": null,
      "grid_gap": null,
      "grid_row": null,
      "grid_template_areas": null,
      "grid_template_columns": null,
      "grid_template_rows": null,
      "height": null,
      "justify_content": null,
      "justify_items": null,
      "left": null,
      "margin": null,
      "max_height": null,
      "max_width": null,
      "min_height": null,
      "min_width": null,
      "object_fit": null,
      "object_position": null,
      "order": null,
      "overflow": null,
      "overflow_x": null,
      "overflow_y": null,
      "padding": null,
      "right": null,
      "top": null,
      "visibility": null,
      "width": null
     }
    },
    "2db62f0afcc245a08763aeabf2ce9914": {
     "model_module": "@jupyter-widgets/base",
     "model_name": "LayoutModel",
     "state": {
      "_model_module": "@jupyter-widgets/base",
      "_model_module_version": "1.2.0",
      "_model_name": "LayoutModel",
      "_view_count": null,
      "_view_module": "@jupyter-widgets/base",
      "_view_module_version": "1.2.0",
      "_view_name": "LayoutView",
      "align_content": null,
      "align_items": null,
      "align_self": null,
      "border": null,
      "bottom": null,
      "display": null,
      "flex": null,
      "flex_flow": null,
      "grid_area": null,
      "grid_auto_columns": null,
      "grid_auto_flow": null,
      "grid_auto_rows": null,
      "grid_column": null,
      "grid_gap": null,
      "grid_row": null,
      "grid_template_areas": null,
      "grid_template_columns": null,
      "grid_template_rows": null,
      "height": null,
      "justify_content": null,
      "justify_items": null,
      "left": null,
      "margin": null,
      "max_height": null,
      "max_width": null,
      "min_height": null,
      "min_width": null,
      "object_fit": null,
      "object_position": null,
      "order": null,
      "overflow": null,
      "overflow_x": null,
      "overflow_y": null,
      "padding": null,
      "right": null,
      "top": null,
      "visibility": null,
      "width": null
     }
    },
    "3898664b74764e3e8fb59fc2f1557f40": {
     "model_module": "@jupyter-widgets/base",
     "model_name": "LayoutModel",
     "state": {
      "_model_module": "@jupyter-widgets/base",
      "_model_module_version": "1.2.0",
      "_model_name": "LayoutModel",
      "_view_count": null,
      "_view_module": "@jupyter-widgets/base",
      "_view_module_version": "1.2.0",
      "_view_name": "LayoutView",
      "align_content": null,
      "align_items": null,
      "align_self": null,
      "border": null,
      "bottom": null,
      "display": null,
      "flex": null,
      "flex_flow": null,
      "grid_area": null,
      "grid_auto_columns": null,
      "grid_auto_flow": null,
      "grid_auto_rows": null,
      "grid_column": null,
      "grid_gap": null,
      "grid_row": null,
      "grid_template_areas": null,
      "grid_template_columns": null,
      "grid_template_rows": null,
      "height": null,
      "justify_content": null,
      "justify_items": null,
      "left": null,
      "margin": null,
      "max_height": null,
      "max_width": null,
      "min_height": null,
      "min_width": null,
      "object_fit": null,
      "object_position": null,
      "order": null,
      "overflow": null,
      "overflow_x": null,
      "overflow_y": null,
      "padding": null,
      "right": null,
      "top": null,
      "visibility": null,
      "width": null
     }
    },
    "4680a3762a6145d69f3de82d7a37c414": {
     "model_module": "@jupyter-widgets/controls",
     "model_name": "ProgressStyleModel",
     "state": {
      "_model_module": "@jupyter-widgets/controls",
      "_model_module_version": "1.5.0",
      "_model_name": "ProgressStyleModel",
      "_view_count": null,
      "_view_module": "@jupyter-widgets/base",
      "_view_module_version": "1.2.0",
      "_view_name": "StyleView",
      "bar_color": null,
      "description_width": "initial"
     }
    },
    "66ce4d2426e945d79892681c2f418da6": {
     "model_module": "@jupyter-widgets/base",
     "model_name": "LayoutModel",
     "state": {
      "_model_module": "@jupyter-widgets/base",
      "_model_module_version": "1.2.0",
      "_model_name": "LayoutModel",
      "_view_count": null,
      "_view_module": "@jupyter-widgets/base",
      "_view_module_version": "1.2.0",
      "_view_name": "LayoutView",
      "align_content": null,
      "align_items": null,
      "align_self": null,
      "border": null,
      "bottom": null,
      "display": null,
      "flex": null,
      "flex_flow": null,
      "grid_area": null,
      "grid_auto_columns": null,
      "grid_auto_flow": null,
      "grid_auto_rows": null,
      "grid_column": null,
      "grid_gap": null,
      "grid_row": null,
      "grid_template_areas": null,
      "grid_template_columns": null,
      "grid_template_rows": null,
      "height": null,
      "justify_content": null,
      "justify_items": null,
      "left": null,
      "margin": null,
      "max_height": null,
      "max_width": null,
      "min_height": null,
      "min_width": null,
      "object_fit": null,
      "object_position": null,
      "order": null,
      "overflow": null,
      "overflow_x": null,
      "overflow_y": null,
      "padding": null,
      "right": null,
      "top": null,
      "visibility": null,
      "width": null
     }
    },
    "82d43b5f4f5643c1bbb38e21d6794892": {
     "model_module": "@jupyter-widgets/controls",
     "model_name": "ProgressStyleModel",
     "state": {
      "_model_module": "@jupyter-widgets/controls",
      "_model_module_version": "1.5.0",
      "_model_name": "ProgressStyleModel",
      "_view_count": null,
      "_view_module": "@jupyter-widgets/base",
      "_view_module_version": "1.2.0",
      "_view_name": "StyleView",
      "bar_color": null,
      "description_width": "initial"
     }
    },
    "8cdece66aa73460e9388c69431707726": {
     "model_module": "@jupyter-widgets/controls",
     "model_name": "DescriptionStyleModel",
     "state": {
      "_model_module": "@jupyter-widgets/controls",
      "_model_module_version": "1.5.0",
      "_model_name": "DescriptionStyleModel",
      "_view_count": null,
      "_view_module": "@jupyter-widgets/base",
      "_view_module_version": "1.2.0",
      "_view_name": "StyleView",
      "description_width": ""
     }
    },
    "98747d71ebf343f7b1a6115497bab1fe": {
     "model_module": "@jupyter-widgets/controls",
     "model_name": "HTMLModel",
     "state": {
      "_dom_classes": [],
      "_model_module": "@jupyter-widgets/controls",
      "_model_module_version": "1.5.0",
      "_model_name": "HTMLModel",
      "_view_count": null,
      "_view_module": "@jupyter-widgets/controls",
      "_view_module_version": "1.5.0",
      "_view_name": "HTMLView",
      "description": "",
      "description_tooltip": null,
      "layout": "IPY_MODEL_66ce4d2426e945d79892681c2f418da6",
      "placeholder": "​",
      "style": "IPY_MODEL_8cdece66aa73460e9388c69431707726",
      "value": " 104/104 [02:27&lt;00:00,  1.42s/it]"
     }
    },
    "a3d19a73f94b4b1888c2b85463ef44a4": {
     "model_module": "@jupyter-widgets/controls",
     "model_name": "HBoxModel",
     "state": {
      "_dom_classes": [],
      "_model_module": "@jupyter-widgets/controls",
      "_model_module_version": "1.5.0",
      "_model_name": "HBoxModel",
      "_view_count": null,
      "_view_module": "@jupyter-widgets/controls",
      "_view_module_version": "1.5.0",
      "_view_name": "HBoxView",
      "box_style": "",
      "children": [
       "IPY_MODEL_0609db04674b4da8a86031e1c8a50e97",
       "IPY_MODEL_b3a70be9962f4a81a560c0500251cda7"
      ],
      "layout": "IPY_MODEL_3898664b74764e3e8fb59fc2f1557f40"
     }
    },
    "b3a70be9962f4a81a560c0500251cda7": {
     "model_module": "@jupyter-widgets/controls",
     "model_name": "HTMLModel",
     "state": {
      "_dom_classes": [],
      "_model_module": "@jupyter-widgets/controls",
      "_model_module_version": "1.5.0",
      "_model_name": "HTMLModel",
      "_view_count": null,
      "_view_module": "@jupyter-widgets/controls",
      "_view_module_version": "1.5.0",
      "_view_name": "HTMLView",
      "description": "",
      "description_tooltip": null,
      "layout": "IPY_MODEL_bcbae1b6e5944a608731979224725ff6",
      "placeholder": "​",
      "style": "IPY_MODEL_146adf9dbf844da2a5ac65156c3d2d32",
      "value": " 104/104 [05:06&lt;00:00,  2.95s/it]"
     }
    },
    "baae507959874101b6137388d9d848e2": {
     "model_module": "@jupyter-widgets/controls",
     "model_name": "HBoxModel",
     "state": {
      "_dom_classes": [],
      "_model_module": "@jupyter-widgets/controls",
      "_model_module_version": "1.5.0",
      "_model_name": "HBoxModel",
      "_view_count": null,
      "_view_module": "@jupyter-widgets/controls",
      "_view_module_version": "1.5.0",
      "_view_name": "HBoxView",
      "box_style": "",
      "children": [
       "IPY_MODEL_2b112aec2a624bfd96ffadd0516aab3a",
       "IPY_MODEL_98747d71ebf343f7b1a6115497bab1fe"
      ],
      "layout": "IPY_MODEL_2db62f0afcc245a08763aeabf2ce9914"
     }
    },
    "bcbae1b6e5944a608731979224725ff6": {
     "model_module": "@jupyter-widgets/base",
     "model_name": "LayoutModel",
     "state": {
      "_model_module": "@jupyter-widgets/base",
      "_model_module_version": "1.2.0",
      "_model_name": "LayoutModel",
      "_view_count": null,
      "_view_module": "@jupyter-widgets/base",
      "_view_module_version": "1.2.0",
      "_view_name": "LayoutView",
      "align_content": null,
      "align_items": null,
      "align_self": null,
      "border": null,
      "bottom": null,
      "display": null,
      "flex": null,
      "flex_flow": null,
      "grid_area": null,
      "grid_auto_columns": null,
      "grid_auto_flow": null,
      "grid_auto_rows": null,
      "grid_column": null,
      "grid_gap": null,
      "grid_row": null,
      "grid_template_areas": null,
      "grid_template_columns": null,
      "grid_template_rows": null,
      "height": null,
      "justify_content": null,
      "justify_items": null,
      "left": null,
      "margin": null,
      "max_height": null,
      "max_width": null,
      "min_height": null,
      "min_width": null,
      "object_fit": null,
      "object_position": null,
      "order": null,
      "overflow": null,
      "overflow_x": null,
      "overflow_y": null,
      "padding": null,
      "right": null,
      "top": null,
      "visibility": null,
      "width": null
     }
    }
   }
  }
 },
 "nbformat": 4,
 "nbformat_minor": 1
}
