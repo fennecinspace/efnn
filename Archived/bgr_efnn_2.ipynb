{
 "cells": [
  {
   "cell_type": "code",
   "execution_count": 1,
   "metadata": {
    "colab": {
     "base_uri": "https://localhost:8080/",
     "height": 127
    },
    "colab_type": "code",
    "executionInfo": {
     "elapsed": 18736,
     "status": "ok",
     "timestamp": 1599585849863,
     "user": {
      "displayName": "Mohamed Benkedadra",
      "photoUrl": "https://lh3.googleusercontent.com/a-/AOh14Gi4zWdoSoh0SxBt4SsL5e2a4Wo5QYFpPZLCI_oI=s64",
      "userId": "08431325992879690447"
     },
     "user_tz": -60
    },
    "id": "6R7q7WN_ALjB",
    "outputId": "e1f9eef6-2382-4b08-9b9c-f3d0f601c2cb"
   },
   "outputs": [
    {
     "name": "stdout",
     "output_type": "stream",
     "text": [
      "Go to this URL in a browser: https://accounts.google.com/o/oauth2/auth?client_id=947318989803-6bn6qk8qdgf4n4g3pfee6491hc0brc4i.apps.googleusercontent.com&redirect_uri=urn%3aietf%3awg%3aoauth%3a2.0%3aoob&scope=email%20https%3a%2f%2fwww.googleapis.com%2fauth%2fdocs.test%20https%3a%2f%2fwww.googleapis.com%2fauth%2fdrive%20https%3a%2f%2fwww.googleapis.com%2fauth%2fdrive.photos.readonly%20https%3a%2f%2fwww.googleapis.com%2fauth%2fpeopleapi.readonly&response_type=code\n",
      "\n",
      "Enter your authorization code:\n",
      "4/3wH4v14OSECPKMwUBP4WjYK9jCJUv3uCk2mPldgkCM4h3KceAcrQOM0\n",
      "Mounted at /content/gdrive\n"
     ]
    }
   ],
   "source": [
    "from google.colab import drive\n",
    "drive.mount('/content/gdrive')"
   ]
  },
  {
   "cell_type": "code",
   "execution_count": 2,
   "metadata": {
    "colab": {
     "base_uri": "https://localhost:8080/",
     "height": 35
    },
    "colab_type": "code",
    "executionInfo": {
     "elapsed": 515,
     "status": "ok",
     "timestamp": 1599585852764,
     "user": {
      "displayName": "Mohamed Benkedadra",
      "photoUrl": "https://lh3.googleusercontent.com/a-/AOh14Gi4zWdoSoh0SxBt4SsL5e2a4Wo5QYFpPZLCI_oI=s64",
      "userId": "08431325992879690447"
     },
     "user_tz": -60
    },
    "id": "I4fd9OvOATCu",
    "outputId": "edbd8bb6-d8c9-42ef-96cb-25efdb3b92ef"
   },
   "outputs": [
    {
     "name": "stdout",
     "output_type": "stream",
     "text": [
      "/content/gdrive/My Drive/efnn/npy-new\n"
     ]
    }
   ],
   "source": [
    "% cd \"/content/gdrive/My Drive/efnn/npy-new\""
   ]
  },
  {
   "cell_type": "code",
   "execution_count": 3,
   "metadata": {
    "colab": {},
    "colab_type": "code",
    "executionInfo": {
     "elapsed": 2213,
     "status": "ok",
     "timestamp": 1599585855335,
     "user": {
      "displayName": "Mohamed Benkedadra",
      "photoUrl": "https://lh3.googleusercontent.com/a-/AOh14Gi4zWdoSoh0SxBt4SsL5e2a4Wo5QYFpPZLCI_oI=s64",
      "userId": "08431325992879690447"
     },
     "user_tz": -60
    },
    "id": "aSW9pjYsAqx9"
   },
   "outputs": [],
   "source": [
    "% tensorflow_version 2.x\n",
    "import numpy as np\n",
    "import tensorflow as tf"
   ]
  },
  {
   "cell_type": "code",
   "execution_count": 6,
   "metadata": {
    "colab": {
     "base_uri": "https://localhost:8080/",
     "height": 35
    },
    "colab_type": "code",
    "executionInfo": {
     "elapsed": 655,
     "status": "ok",
     "timestamp": 1599585980812,
     "user": {
      "displayName": "Mohamed Benkedadra",
      "photoUrl": "https://lh3.googleusercontent.com/a-/AOh14Gi4zWdoSoh0SxBt4SsL5e2a4Wo5QYFpPZLCI_oI=s64",
      "userId": "08431325992879690447"
     },
     "user_tz": -60
    },
    "id": "Y9sCkeXiAsWc",
    "outputId": "81bab481-018a-41a7-e9ce-dee65b9c3165"
   },
   "outputs": [
    {
     "name": "stdout",
     "output_type": "stream",
     "text": [
      "[ 0  0  0 16 10  5 37 29 16] [28 19  9]\n"
     ]
    }
   ],
   "source": [
    "# data = np.load('./rgb_data.npy')\n",
    "# labels = np.load('./rgb_labels.npy')\n",
    "\n",
    "DATASETS = [\n",
    "    [\"data_full.npy\", \"labels_full.npy\", '1ST'], # 1\n",
    "    [\"data_every_3rd.npy\", \"labels_every_3rd.npy\", '3RD'], # 3\n",
    "    [\"data_every_10th.npy\", \"labels_every_10th.npy\", '10TH'], # 10\n",
    "    [\"data_every_50th.npy\", \"labels_every_50th.npy\", '50TH'], # 50\n",
    "    [\"new_evs_50th_data.npy\", \"new_evs_50th_labels.npy\", '50TH_2'], # 50 new evs\n",
    "    \n",
    "    # [\"temp_data.npy\", \"temp_labels.npy\", '3RD'],\n",
    "]\n",
    "\n",
    "DATASET_TO_CHOOSE = 4\n",
    "\n",
    "data = np.load(DATASETS[DATASET_TO_CHOOSE][0])\n",
    "labels = np.load(DATASETS[DATASET_TO_CHOOSE][1])\n",
    "\n",
    "print(data[0], labels[0])"
   ]
  },
  {
   "cell_type": "code",
   "execution_count": 7,
   "metadata": {
    "colab": {
     "base_uri": "https://localhost:8080/",
     "height": 35
    },
    "colab_type": "code",
    "executionInfo": {
     "elapsed": 1274,
     "status": "ok",
     "timestamp": 1599585991668,
     "user": {
      "displayName": "Mohamed Benkedadra",
      "photoUrl": "https://lh3.googleusercontent.com/a-/AOh14Gi4zWdoSoh0SxBt4SsL5e2a4Wo5QYFpPZLCI_oI=s64",
      "userId": "08431325992879690447"
     },
     "user_tz": -60
    },
    "id": "xCIYfK12BJhy",
    "outputId": "1ed43993-270e-4ce9-9781-19bf4b2ae647"
   },
   "outputs": [
    {
     "name": "stdout",
     "output_type": "stream",
     "text": [
      "[ 1  1  1 11 19 18 29 46 42] [17 31 27]\n"
     ]
    }
   ],
   "source": [
    "idx = np.random.permutation(len(data))\n",
    "data = data[idx]\n",
    "labels = labels[idx]\n",
    "\n",
    "print(data[0], labels[0])"
   ]
  },
  {
   "cell_type": "code",
   "execution_count": 8,
   "metadata": {
    "colab": {},
    "colab_type": "code",
    "executionInfo": {
     "elapsed": 510,
     "status": "ok",
     "timestamp": 1599585992873,
     "user": {
      "displayName": "Mohamed Benkedadra",
      "photoUrl": "https://lh3.googleusercontent.com/a-/AOh14Gi4zWdoSoh0SxBt4SsL5e2a4Wo5QYFpPZLCI_oI=s64",
      "userId": "08431325992879690447"
     },
     "user_tz": -60
    },
    "id": "jZipdTxuBN2Y"
   },
   "outputs": [],
   "source": [
    "limit = (len(data) // 5) * 4\n",
    "\n",
    "train_data, test_data = data[:limit], data[limit:]\n",
    "del data\n",
    "\n",
    "train_labels, test_labels = labels[:limit], labels[limit:]\n",
    "del labels"
   ]
  },
  {
   "cell_type": "code",
   "execution_count": 9,
   "metadata": {
    "colab": {
     "base_uri": "https://localhost:8080/",
     "height": 53
    },
    "colab_type": "code",
    "executionInfo": {
     "elapsed": 492,
     "status": "ok",
     "timestamp": 1599585994448,
     "user": {
      "displayName": "Mohamed Benkedadra",
      "photoUrl": "https://lh3.googleusercontent.com/a-/AOh14Gi4zWdoSoh0SxBt4SsL5e2a4Wo5QYFpPZLCI_oI=s64",
      "userId": "08431325992879690447"
     },
     "user_tz": -60
    },
    "id": "UELZK61SvX52",
    "outputId": "f800a43f-20c2-44a2-b412-46cb418935ae"
   },
   "outputs": [
    {
     "name": "stdout",
     "output_type": "stream",
     "text": [
      "[0.00392157 0.00392157 0.00392157 0.04313725 0.0745098  0.07058824\n",
      " 0.11372549 0.18039216 0.16470588] [0.06666667 0.12156863 0.10588235]\n"
     ]
    }
   ],
   "source": [
    "train_data = train_data / 255\n",
    "train_labels = train_labels / 255\n",
    "\n",
    "print(train_data[0], train_labels[0])"
   ]
  },
  {
   "cell_type": "code",
   "execution_count": 14,
   "metadata": {
    "colab": {},
    "colab_type": "code",
    "executionInfo": {
     "elapsed": 652,
     "status": "ok",
     "timestamp": 1599586865861,
     "user": {
      "displayName": "Mohamed Benkedadra",
      "photoUrl": "https://lh3.googleusercontent.com/a-/AOh14Gi4zWdoSoh0SxBt4SsL5e2a4Wo5QYFpPZLCI_oI=s64",
      "userId": "08431325992879690447"
     },
     "user_tz": -60
    },
    "id": "26U6IbwIBU_9"
   },
   "outputs": [],
   "source": [
    "model = tf.keras.Sequential()\n",
    "\n",
    "model.add(tf.keras.layers.Dense(5, input_shape = (9,), activation='relu'))\n",
    "model.add(tf.keras.layers.Dense(3, activation = 'linear'))\n",
    "\n",
    "# model = tf.keras.models.load_model(\"/content/gdrive/My Drive/efnn/npy-new/models/50TH/1024-04-0.92-0.00479.hdf5\")\n",
    "\n",
    "model.compile(loss='mean_squared_error', optimizer= tf.keras.optimizers.Adam(lr=0.0001), metrics = ['accuracy'])"
   ]
  },
  {
   "cell_type": "code",
   "execution_count": 15,
   "metadata": {
    "colab": {
     "base_uri": "https://localhost:8080/",
     "height": 35
    },
    "colab_type": "code",
    "executionInfo": {
     "elapsed": 555,
     "status": "ok",
     "timestamp": 1599586867667,
     "user": {
      "displayName": "Mohamed Benkedadra",
      "photoUrl": "https://lh3.googleusercontent.com/a-/AOh14Gi4zWdoSoh0SxBt4SsL5e2a4Wo5QYFpPZLCI_oI=s64",
      "userId": "08431325992879690447"
     },
     "user_tz": -60
    },
    "id": "k4oeK-J_TXsI",
    "outputId": "e81f534e-82e8-4a13-f71e-ba2dc25be512"
   },
   "outputs": [
    {
     "name": "stdout",
     "output_type": "stream",
     "text": [
      "5248340 5248340\n"
     ]
    }
   ],
   "source": [
    "print(len(train_data), len(train_labels))"
   ]
  },
  {
   "cell_type": "code",
   "execution_count": null,
   "metadata": {
    "colab": {},
    "colab_type": "code",
    "id": "u-Fzs4KmZ4gt"
   },
   "outputs": [],
   "source": [
    "# np.save('temp_data.npy', train_data)\n",
    "# np.save('temp_labels.npy', train_labels)"
   ]
  },
  {
   "cell_type": "code",
   "execution_count": null,
   "metadata": {
    "colab": {},
    "colab_type": "code",
    "id": "oT_AkVuWwmiK"
   },
   "outputs": [],
   "source": [
    "# ! rm /content/gdrive/My\\ Drive/efnn/npy-new/models/50TH/32-*"
   ]
  },
  {
   "cell_type": "code",
   "execution_count": 16,
   "metadata": {
    "colab": {
     "base_uri": "https://localhost:8080/",
     "height": 1000
    },
    "colab_type": "code",
    "executionInfo": {
     "elapsed": 706913,
     "status": "ok",
     "timestamp": 1599587576484,
     "user": {
      "displayName": "Mohamed Benkedadra",
      "photoUrl": "https://lh3.googleusercontent.com/a-/AOh14Gi4zWdoSoh0SxBt4SsL5e2a4Wo5QYFpPZLCI_oI=s64",
      "userId": "08431325992879690447"
     },
     "user_tz": -60
    },
    "id": "uTV7JAaJNE69",
    "outputId": "52d39249-fb4a-4e63-88a3-e66b6fae8204"
   },
   "outputs": [
    {
     "name": "stdout",
     "output_type": "stream",
     "text": [
      "Epoch 1/20\n",
      "20479/20502 [============================>.] - ETA: 0s - loss: 0.0073 - accuracy: 0.8191\n",
      "Epoch 00001: saving model to models/50TH_2/256-01-0.82-0.00734.hdf5\n",
      "20502/20502 [==============================] - 35s 2ms/step - loss: 0.0073 - accuracy: 0.8192\n",
      "Epoch 2/20\n",
      "20497/20502 [============================>.] - ETA: 0s - loss: 0.0027 - accuracy: 0.9125\n",
      "Epoch 00002: saving model to models/50TH_2/256-02-0.91-0.00274.hdf5\n",
      "20502/20502 [==============================] - 35s 2ms/step - loss: 0.0027 - accuracy: 0.9125\n",
      "Epoch 3/20\n",
      "20500/20502 [============================>.] - ETA: 0s - loss: 0.0027 - accuracy: 0.9171\n",
      "Epoch 00003: saving model to models/50TH_2/256-03-0.92-0.00268.hdf5\n",
      "20502/20502 [==============================] - 35s 2ms/step - loss: 0.0027 - accuracy: 0.9171\n",
      "Epoch 4/20\n",
      "20492/20502 [============================>.] - ETA: 0s - loss: 0.0026 - accuracy: 0.9217\n",
      "Epoch 00004: saving model to models/50TH_2/256-04-0.92-0.00264.hdf5\n",
      "20502/20502 [==============================] - 35s 2ms/step - loss: 0.0026 - accuracy: 0.9217\n",
      "Epoch 5/20\n",
      "20480/20502 [============================>.] - ETA: 0s - loss: 0.0026 - accuracy: 0.9241\n",
      "Epoch 00005: saving model to models/50TH_2/256-05-0.92-0.00261.hdf5\n",
      "20502/20502 [==============================] - 35s 2ms/step - loss: 0.0026 - accuracy: 0.9241\n",
      "Epoch 6/20\n",
      "20499/20502 [============================>.] - ETA: 0s - loss: 0.0026 - accuracy: 0.9263\n",
      "Epoch 00006: saving model to models/50TH_2/256-06-0.93-0.00259.hdf5\n",
      "20502/20502 [==============================] - 37s 2ms/step - loss: 0.0026 - accuracy: 0.9263\n",
      "Epoch 7/20\n",
      "20485/20502 [============================>.] - ETA: 0s - loss: 0.0026 - accuracy: 0.9289\n",
      "Epoch 00007: saving model to models/50TH_2/256-07-0.93-0.00257.hdf5\n",
      "20502/20502 [==============================] - 35s 2ms/step - loss: 0.0026 - accuracy: 0.9289\n",
      "Epoch 8/20\n",
      "20477/20502 [============================>.] - ETA: 0s - loss: 0.0026 - accuracy: 0.9313\n",
      "Epoch 00008: saving model to models/50TH_2/256-08-0.93-0.00257.hdf5\n",
      "20502/20502 [==============================] - 35s 2ms/step - loss: 0.0026 - accuracy: 0.9313\n",
      "Epoch 9/20\n",
      "20479/20502 [============================>.] - ETA: 0s - loss: 0.0026 - accuracy: 0.9326\n",
      "Epoch 00009: saving model to models/50TH_2/256-09-0.93-0.00256.hdf5\n",
      "20502/20502 [==============================] - 35s 2ms/step - loss: 0.0026 - accuracy: 0.9326\n",
      "Epoch 10/20\n",
      "20476/20502 [============================>.] - ETA: 0s - loss: 0.0026 - accuracy: 0.9332\n",
      "Epoch 00010: saving model to models/50TH_2/256-10-0.93-0.00256.hdf5\n",
      "20502/20502 [==============================] - 35s 2ms/step - loss: 0.0026 - accuracy: 0.9332\n",
      "Epoch 11/20\n",
      "20494/20502 [============================>.] - ETA: 0s - loss: 0.0026 - accuracy: 0.9335\n",
      "Epoch 00011: saving model to models/50TH_2/256-11-0.93-0.00256.hdf5\n",
      "20502/20502 [==============================] - 35s 2ms/step - loss: 0.0026 - accuracy: 0.9335\n",
      "Epoch 12/20\n",
      "20502/20502 [==============================] - ETA: 0s - loss: 0.0026 - accuracy: 0.9337\n",
      "Epoch 00012: saving model to models/50TH_2/256-12-0.93-0.00256.hdf5\n",
      "20502/20502 [==============================] - 35s 2ms/step - loss: 0.0026 - accuracy: 0.9337\n",
      "Epoch 13/20\n",
      "20474/20502 [============================>.] - ETA: 0s - loss: 0.0026 - accuracy: 0.9338\n",
      "Epoch 00013: saving model to models/50TH_2/256-13-0.93-0.00256.hdf5\n",
      "20502/20502 [==============================] - 35s 2ms/step - loss: 0.0026 - accuracy: 0.9338\n",
      "Epoch 14/20\n",
      "20500/20502 [============================>.] - ETA: 0s - loss: 0.0026 - accuracy: 0.9339\n",
      "Epoch 00014: saving model to models/50TH_2/256-14-0.93-0.00256.hdf5\n",
      "20502/20502 [==============================] - 35s 2ms/step - loss: 0.0026 - accuracy: 0.9339\n",
      "Epoch 15/20\n",
      "20481/20502 [============================>.] - ETA: 0s - loss: 0.0026 - accuracy: 0.9340\n",
      "Epoch 00015: saving model to models/50TH_2/256-15-0.93-0.00256.hdf5\n",
      "20502/20502 [==============================] - 37s 2ms/step - loss: 0.0026 - accuracy: 0.9340\n",
      "Epoch 16/20\n",
      "20500/20502 [============================>.] - ETA: 0s - loss: 0.0026 - accuracy: 0.9340\n",
      "Epoch 00016: saving model to models/50TH_2/256-16-0.93-0.00256.hdf5\n",
      "20502/20502 [==============================] - 35s 2ms/step - loss: 0.0026 - accuracy: 0.9340\n",
      "Epoch 17/20\n",
      "20499/20502 [============================>.] - ETA: 0s - loss: 0.0026 - accuracy: 0.9340\n",
      "Epoch 00017: saving model to models/50TH_2/256-17-0.93-0.00256.hdf5\n",
      "20502/20502 [==============================] - 35s 2ms/step - loss: 0.0026 - accuracy: 0.9340\n",
      "Epoch 18/20\n",
      "20495/20502 [============================>.] - ETA: 0s - loss: 0.0026 - accuracy: 0.9341\n",
      "Epoch 00018: saving model to models/50TH_2/256-18-0.93-0.00256.hdf5\n",
      "20502/20502 [==============================] - 35s 2ms/step - loss: 0.0026 - accuracy: 0.9341\n",
      "Epoch 19/20\n",
      "20482/20502 [============================>.] - ETA: 0s - loss: 0.0026 - accuracy: 0.9342\n",
      "Epoch 00019: saving model to models/50TH_2/256-19-0.93-0.00256.hdf5\n",
      "20502/20502 [==============================] - 35s 2ms/step - loss: 0.0026 - accuracy: 0.9343\n",
      "Epoch 20/20\n",
      "20496/20502 [============================>.] - ETA: 0s - loss: 0.0026 - accuracy: 0.9343\n",
      "Epoch 00020: saving model to models/50TH_2/256-20-0.93-0.00256.hdf5\n",
      "20502/20502 [==============================] - 35s 2ms/step - loss: 0.0026 - accuracy: 0.9343\n"
     ]
    },
    {
     "data": {
      "text/plain": [
       "<tensorflow.python.keras.callbacks.History at 0x7fda9837ee48>"
      ]
     },
     "execution_count": 16,
     "metadata": {
      "tags": []
     },
     "output_type": "execute_result"
    }
   ],
   "source": [
    "# checkpoint = tf.keras.callbacks.ModelCheckpoint(\"15-07-2020-ffnn-5-512-9-5-3-3RD.hdf5\", monitor='loss', verbose=1, save_best_only=True, mode='auto', save_freq = 'epoch')\n",
    "\n",
    "BATCH_SIZE = 256\n",
    "\n",
    "checkpoint = tf.keras.callbacks.ModelCheckpoint(\n",
    "    filepath=\"models/\"+ DATASETS[DATASET_TO_CHOOSE][2] + f\"/{BATCH_SIZE}-\" + \"{epoch:02d}-{accuracy:.2f}-{loss:.5f}.hdf5\", \n",
    "    monitor='loss', verbose=1, save_best_only=False, mode='auto', save_freq = 'epoch')\n",
    "\n",
    "model.fit(train_data, train_labels, epochs = 20, batch_size = BATCH_SIZE, callbacks=[checkpoint])\n",
    "# model.fit(data, labels, epochs = 20, batch_size = BATCH_SIZE, callbacks=[checkpoint])"
   ]
  },
  {
   "cell_type": "code",
   "execution_count": null,
   "metadata": {
    "colab": {},
    "colab_type": "code",
    "id": "GjohkI5t4quS"
   },
   "outputs": [],
   "source": [
    "import os\n",
    "PATH = '/content/gdrive/My Drive/efnn/npy-new/models/3RD/'\n",
    "models = os.listdir(PATH)\n",
    "del models[0]\n",
    "\n",
    "for model in models:\n",
    "    os.rename(os.path.join(PATH, model), os.path.join(PATH, model.replace('-OTHER', '')))\n",
    "\n"
   ]
  },
  {
   "cell_type": "code",
   "execution_count": null,
   "metadata": {
    "colab": {},
    "colab_type": "code",
    "id": "_i6ebfsmapAM"
   },
   "outputs": [],
   "source": [
    "del train_data\n",
    "del train_labels"
   ]
  },
  {
   "cell_type": "code",
   "execution_count": null,
   "metadata": {
    "colab": {},
    "colab_type": "code",
    "id": "AI95LfPZ7QGB"
   },
   "outputs": [],
   "source": [
    "! mv '/content/gdrive/My Drive/efnn/npy-new/models/50TH/32-01-0.85-0.00391-OTHER.hdf5' '/content/gdrive/My Drive/efnn/npy-new/models/50TH/32-11-0.85-0.00391.hdf5'\n",
    "! mv '/content/gdrive/My Drive/efnn/npy-new/models/50TH/32-02-0.85-0.00391-OTHER.hdf5' '/content/gdrive/My Drive/efnn/npy-new/models/50TH/32-12-0.85-0.00391.hdf5'\n",
    "! mv '/content/gdrive/My Drive/efnn/npy-new/models/50TH/32-03-0.85-0.00391-OTHER.hdf5' '/content/gdrive/My Drive/efnn/npy-new/models/50TH/32-13-0.85-0.00391.hdf5'\n",
    "! mv '/content/gdrive/My Drive/efnn/npy-new/models/50TH/32-04-0.85-0.00391-OTHER.hdf5' '/content/gdrive/My Drive/efnn/npy-new/models/50TH/32-14-0.85-0.00391.hdf5'\n",
    "! mv '/content/gdrive/My Drive/efnn/npy-new/models/50TH/32-05-0.85-0.00391-OTHER.hdf5' '/content/gdrive/My Drive/efnn/npy-new/models/50TH/32-15-0.85-0.00391.hdf5'\n",
    "! mv '/content/gdrive/My Drive/efnn/npy-new/models/50TH/32-06-0.85-0.00391-OTHER.hdf5' '/content/gdrive/My Drive/efnn/npy-new/models/50TH/32-16-0.85-0.00391.hdf5'\n",
    "! mv '/content/gdrive/My Drive/efnn/npy-new/models/50TH/32-07-0.85-0.00391-OTHER.hdf5' '/content/gdrive/My Drive/efnn/npy-new/models/50TH/32-17-0.85-0.00391.hdf5'\n",
    "! mv '/content/gdrive/My Drive/efnn/npy-new/models/50TH/32-08-0.85-0.00391-OTHER.hdf5' '/content/gdrive/My Drive/efnn/npy-new/models/50TH/32-18-0.85-0.00391.hdf5'\n",
    "! mv '/content/gdrive/My Drive/efnn/npy-new/models/50TH/32-09-0.85-0.00391-OTHER.hdf5' '/content/gdrive/My Drive/efnn/npy-new/models/50TH/32-19-0.85-0.00391.hdf5'\n",
    "! mv '/content/gdrive/My Drive/efnn/npy-new/models/50TH/32-10-0.85-0.00391-OTHER.hdf5' '/content/gdrive/My Drive/efnn/npy-new/models/50TH/32-20-0.85-0.00391.hdf5'"
   ]
  },
  {
   "cell_type": "code",
   "execution_count": null,
   "metadata": {
    "colab": {
     "base_uri": "https://localhost:8080/",
     "height": 53
    },
    "colab_type": "code",
    "executionInfo": {
     "elapsed": 16295,
     "status": "ok",
     "timestamp": 1594839516285,
     "user": {
      "displayName": "Mohamed Benkedadra",
      "photoUrl": "https://lh3.googleusercontent.com/a-/AOh14Gi4zWdoSoh0SxBt4SsL5e2a4Wo5QYFpPZLCI_oI=s64",
      "userId": "08431325992879690447"
     },
     "user_tz": -60
    },
    "id": "d3mpfRqvNpJt",
    "outputId": "b85660d8-1a85-450b-ddf3-b7dddab62259"
   },
   "outputs": [
    {
     "name": "stdout",
     "output_type": "stream",
     "text": [
      "12814/12814 [==============================] - 15s 1ms/step - loss: 0.0033\n",
      "test loss, test acc: 0.0033121765591204166\n"
     ]
    }
   ],
   "source": [
    "results = model.evaluate(test_data / 255, test_labels / 255, batch_size = 512)\n",
    "\n",
    "print('test loss, test acc:', results)"
   ]
  }
 ],
 "metadata": {
  "accelerator": "GPU",
  "colab": {
   "collapsed_sections": [],
   "machine_shape": "hm",
   "name": "bgr_efnn_2.ipynb",
   "provenance": []
  },
  "kernelspec": {
   "display_name": "Python 3",
   "language": "python",
   "name": "python3"
  },
  "language_info": {
   "codemirror_mode": {
    "name": "ipython",
    "version": 3
   },
   "file_extension": ".py",
   "mimetype": "text/x-python",
   "name": "python",
   "nbconvert_exporter": "python",
   "pygments_lexer": "ipython3",
   "version": "3.6.9"
  }
 },
 "nbformat": 4,
 "nbformat_minor": 1
}
