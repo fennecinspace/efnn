{
 "cells": [
  {
   "cell_type": "code",
   "execution_count": 29,
   "metadata": {
    "colab": {
     "base_uri": "https://localhost:8080/",
     "height": 179
    },
    "colab_type": "code",
    "executionInfo": {
     "elapsed": 8793,
     "status": "ok",
     "timestamp": 1595342628589,
     "user": {
      "displayName": "Mohamed Benkedadra",
      "photoUrl": "https://lh3.googleusercontent.com/a-/AOh14Gi4zWdoSoh0SxBt4SsL5e2a4Wo5QYFpPZLCI_oI=s64",
      "userId": "08431325992879690447"
     },
     "user_tz": -60
    },
    "id": "cs09mdtHYbJk",
    "outputId": "89a40687-a4c7-41ac-cfca-91ef95aecfa6"
   },
   "outputs": [],
   "source": [
    "import numpy as np\n",
    "import tensorflow as tf\n",
    "import cv2\n",
    "from PIL import Image\n",
    "from matplotlib import pyplot as plt\n",
    "tf.compat.v1.enable_eager_execution()"
   ]
  },
  {
   "cell_type": "code",
   "execution_count": 2,
   "metadata": {
    "colab": {
     "base_uri": "https://localhost:8080/",
     "height": 35
    },
    "colab_type": "code",
    "executionInfo": {
     "elapsed": 1513,
     "status": "ok",
     "timestamp": 1595342630113,
     "user": {
      "displayName": "Mohamed Benkedadra",
      "photoUrl": "https://lh3.googleusercontent.com/a-/AOh14Gi4zWdoSoh0SxBt4SsL5e2a4Wo5QYFpPZLCI_oI=s64",
      "userId": "08431325992879690447"
     },
     "user_tz": -60
    },
    "id": "7fu_cODhYTz0",
    "outputId": "b919254c-956d-451e-c308-dfc547a50eed"
   },
   "outputs": [],
   "source": [
    "# model = tf.keras.models.load_model(\"regression_model_2evs.hdf5\")\n",
    "model = tf.keras.models.load_model(\"./models/50TH/256-04-0.93-0.00342.hdf5\")\n",
    "\n",
    "# when the model is compiled the prediction takes a longer time\n",
    "# model.compile(loss='mean_squared_error', optimizer= tf.keras.optimizers.Adam(lr = 0.001))"
   ]
  },
  {
   "cell_type": "code",
   "execution_count": 3,
   "metadata": {
    "colab": {
     "base_uri": "https://localhost:8080/",
     "height": 179
    },
    "colab_type": "code",
    "executionInfo": {
     "elapsed": 6626,
     "status": "ok",
     "timestamp": 1595342679403,
     "user": {
      "displayName": "Mohamed Benkedadra",
      "photoUrl": "https://lh3.googleusercontent.com/a-/AOh14Gi4zWdoSoh0SxBt4SsL5e2a4Wo5QYFpPZLCI_oI=s64",
      "userId": "08431325992879690447"
     },
     "user_tz": -60
    },
    "id": "SHNy0sVnYs5d",
    "outputId": "fcbdb4e7-76cf-4f2a-e9cf-8a6a50288571"
   },
   "outputs": [],
   "source": [
    "import os\n",
    "from efimg import Exposures\n",
    "\n",
    "SAMPLES_DIR = \"./dataset/jpg\"\n",
    "\n",
    "# SAMPLE = 'OtterPoint'\n",
    "# EVS = ['-6', '-4', '-2']\n",
    "\n",
    "# SAMPLE = 'Zentrum'\n",
    "# EVS = ['-3', '+0', '+3']\n",
    "\n",
    "# SAMPLE = 'BandonSunset(2)'\n",
    "# EVS = ['-6', '-2', '+1']\n",
    "\n",
    "SAMPLE = 'HDRMark'\n",
    "EVS = ['-8', '-4', '+1']\n",
    "\n",
    "# SAMPLE = 'WallDrug'\n",
    "# EVS = ['-8', '-3', '+0']\n",
    "\n",
    "\n",
    "x = Exposures(\n",
    "        os.path.join(SAMPLES_DIR, SAMPLE), \n",
    "        evs = [f'{SAMPLE}-EV{ev}' for ev in EVS]\n",
    "    )\n"
   ]
  },
  {
   "cell_type": "code",
   "execution_count": 14,
   "metadata": {
    "colab": {
     "base_uri": "https://localhost:8080/",
     "height": 35
    },
    "colab_type": "code",
    "executionInfo": {
     "elapsed": 4626,
     "status": "ok",
     "timestamp": 1595342692894,
     "user": {
      "displayName": "Mohamed Benkedadra",
      "photoUrl": "https://lh3.googleusercontent.com/a-/AOh14Gi4zWdoSoh0SxBt4SsL5e2a4Wo5QYFpPZLCI_oI=s64",
      "userId": "08431325992879690447"
     },
     "user_tz": -60
    },
    "id": "Fr5EJUdcY-24",
    "outputId": "120b2def-46c0-4730-f567-ea8acc74b528"
   },
   "outputs": [],
   "source": [
    "# Deconstruction Phase\n",
    "x.create_np_data()"
   ]
  },
  {
   "cell_type": "code",
   "execution_count": 32,
   "metadata": {},
   "outputs": [],
   "source": [
    "# Prediction Phase\n",
    "fusion = model.predict_on_batch(x.np_data['data'] / 255) * 255"
   ]
  },
  {
   "cell_type": "code",
   "execution_count": 34,
   "metadata": {
    "colab": {
     "base_uri": "https://localhost:8080/",
     "height": 35
    },
    "colab_type": "code",
    "executionInfo": {
     "elapsed": 3853,
     "status": "ok",
     "timestamp": 1595342775565,
     "user": {
      "displayName": "Mohamed Benkedadra",
      "photoUrl": "https://lh3.googleusercontent.com/a-/AOh14Gi4zWdoSoh0SxBt4SsL5e2a4Wo5QYFpPZLCI_oI=s64",
      "userId": "08431325992879690447"
     },
     "user_tz": -60
    },
    "id": "hEo-_E1fbcsI",
    "outputId": "5f7d5da0-a09a-4ec2-ccd6-5c0427ac9a25"
   },
   "outputs": [],
   "source": [
    "# Construction Phase\n",
    "# fusion = fusion.reshape(x.exposures[x.evs[0]].shape)"
   ]
  }
 ],
 "metadata": {
  "colab": {
   "authorship_tag": "ABX9TyPimwVTWQcrSoT6te9m43q5",
   "collapsed_sections": [],
   "name": "use_model.ipynb",
   "provenance": [],
   "toc_visible": true
  },
  "kernelspec": {
   "display_name": "Python 3",
   "language": "python",
   "name": "python3"
  },
  "language_info": {
   "codemirror_mode": {
    "name": "ipython",
    "version": 3
   },
   "file_extension": ".py",
   "mimetype": "text/x-python",
   "name": "python",
   "nbconvert_exporter": "python",
   "pygments_lexer": "ipython3",
   "version": "3.6.9"
  }
 },
 "nbformat": 4,
 "nbformat_minor": 1
}
